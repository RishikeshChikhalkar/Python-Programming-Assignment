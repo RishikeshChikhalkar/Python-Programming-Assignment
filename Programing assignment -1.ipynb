{
 "cells": [
  {
   "cell_type": "code",
   "execution_count": 3,
   "id": "45cb47a8",
   "metadata": {},
   "outputs": [
    {
     "name": "stdout",
     "output_type": "stream",
     "text": [
      "Hello Python\n"
     ]
    },
    {
     "data": {
      "text/plain": [
       "'hello Python'"
      ]
     },
     "execution_count": 3,
     "metadata": {},
     "output_type": "execute_result"
    }
   ],
   "source": [
    "#1. Write a Python program to print \"Hello Python\"?\n",
    "\n",
    "print(\"Hello Python\")\n",
    "\n",
    "\"hello Python\""
   ]
  },
  {
   "cell_type": "code",
   "execution_count": 9,
   "id": "f793b5fb",
   "metadata": {},
   "outputs": [
    {
     "name": "stdout",
     "output_type": "stream",
     "text": [
      "Enter the 1st value :1\n",
      "Enter the 2nd value :2\n",
      "Addition= 3\n",
      "Division= 0.5\n"
     ]
    }
   ],
   "source": [
    "#2. Write a Python program to do arithmetical operations addition and division.?\n",
    "\n",
    "a=int(input(\"Enter the 1st value :\"))\n",
    "b=int(input(\"Enter the 2nd value :\"))\n",
    "\n",
    "print(\"Addition=\" ,a+b) \n",
    "print(\"Division=\" ,a/b)"
   ]
  },
  {
   "cell_type": "code",
   "execution_count": 29,
   "id": "1b903611",
   "metadata": {},
   "outputs": [
    {
     "name": "stdout",
     "output_type": "stream",
     "text": [
      "Enter the breadth of Triangle :20\n",
      "Enter the height of triangle :5\n",
      "Area of triangle is : 50.0\n"
     ]
    }
   ],
   "source": [
    "#3. Write a Python program to find the area of a triangle?\n",
    "#   Area of a Triangle, A = 1/2 × b × h\n",
    "\n",
    "b=int(input(\"Enter the breadth of Triangle :\"))\n",
    "h=int(input(\"Enter the height of triangle :\"))\n",
    "\n",
    "area_of_Triangle=1/2*b*h\n",
    "print(\"Area of triangle is :\",area_of_Triangle)\n"
   ]
  },
  {
   "cell_type": "code",
   "execution_count": 22,
   "id": "bd7e9f51",
   "metadata": {},
   "outputs": [
    {
     "name": "stdout",
     "output_type": "stream",
     "text": [
      "Enter the value of a :50\n",
      "Enter the value of b :40\n",
      "After Swapping a = 40 and b = 50\n"
     ]
    }
   ],
   "source": [
    "#4. Write a Python program to swap two variables?\n",
    "\n",
    "#a,b=10,50\n",
    "a=int(input(\"Enter the value of a :\"))\n",
    "b=int(input(\"Enter the value of b :\"))\n",
    "temp\n",
    "temp=a\n",
    "a=b\n",
    "b=temp\n",
    "\n",
    "print(f\"After Swapping a = {a} and b = {b}\")"
   ]
  },
  {
   "cell_type": "code",
   "execution_count": 28,
   "id": "3f8fd869",
   "metadata": {},
   "outputs": [
    {
     "name": "stdout",
     "output_type": "stream",
     "text": [
      "79\n"
     ]
    }
   ],
   "source": [
    "#5. Write a Python program to generate a random number?\n",
    "import random\n",
    "print(random.randint(0,100))"
   ]
  }
 ],
 "metadata": {
  "kernelspec": {
   "display_name": "Python 3 (ipykernel)",
   "language": "python",
   "name": "python3"
  },
  "language_info": {
   "codemirror_mode": {
    "name": "ipython",
    "version": 3
   },
   "file_extension": ".py",
   "mimetype": "text/x-python",
   "name": "python",
   "nbconvert_exporter": "python",
   "pygments_lexer": "ipython3",
   "version": "3.9.13"
  }
 },
 "nbformat": 4,
 "nbformat_minor": 5
}
