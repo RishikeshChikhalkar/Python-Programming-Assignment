{
 "cells": [
  {
   "cell_type": "markdown",
   "id": "7b56055d",
   "metadata": {},
   "source": [
    "# Python Programming Assignment-2"
   ]
  },
  {
   "cell_type": "markdown",
   "id": "eb474fbe",
   "metadata": {},
   "source": [
    "###### 1. Write a Python program to convert kilometers to miles?"
   ]
  },
  {
   "cell_type": "code",
   "execution_count": 1,
   "id": "85bf708e",
   "metadata": {},
   "outputs": [
    {
     "name": "stdout",
     "output_type": "stream",
     "text": [
      "kilometer :10\n",
      "10.0 kilometer is equal to 6.2 miles.\n"
     ]
    }
   ],
   "source": [
    "\n",
    "\n",
    "kilometer=float(input(\"kilometer :\"))\n",
    "\n",
    "mile= kilometer * 0.62\n",
    "\n",
    "print(f\"{kilometer} kilometer is equal to {mile} miles.\")"
   ]
  },
  {
   "cell_type": "markdown",
   "id": "2a95ba8d",
   "metadata": {},
   "source": [
    "###### 2. Write a Python program to convert Celsius to Fahrenheit?"
   ]
  },
  {
   "cell_type": "code",
   "execution_count": 2,
   "id": "e60ff4f6",
   "metadata": {},
   "outputs": [
    {
     "name": "stdout",
     "output_type": "stream",
     "text": [
      "enter the temperature in celcius :20\n",
      "20.0 degree celsius is equal to 68.0 fahrenheits.\n"
     ]
    }
   ],
   "source": [
    "\n",
    "celsius=float(input(\"enter the temperature in celcius :\"))\n",
    "\n",
    "fahrenheit= celsius * (9/5) + 32\n",
    "\n",
    "print(f\"{celsius} degree celsius is equal to {fahrenheit} fahrenheits.\")"
   ]
  },
  {
   "cell_type": "markdown",
   "id": "77ca7a26",
   "metadata": {},
   "source": [
    "###### 3. Write a Python program to display calendar?"
   ]
  },
  {
   "cell_type": "code",
   "execution_count": 3,
   "id": "8b78a6a8",
   "metadata": {},
   "outputs": [
    {
     "name": "stdout",
     "output_type": "stream",
     "text": [
      "enter the year :1999\n",
      "enter the month :11\n",
      "   November 1999\n",
      "Mo Tu We Th Fr Sa Su\n",
      " 1  2  3  4  5  6  7\n",
      " 8  9 10 11 12 13 14\n",
      "15 16 17 18 19 20 21\n",
      "22 23 24 25 26 27 28\n",
      "29 30\n",
      "\n"
     ]
    }
   ],
   "source": [
    "# for calender we import calender module\n",
    "import calendar\n",
    "\n",
    "year=int(input(\"enter the year :\"))\n",
    "month=int(input(\"enter the month :\"))\n",
    "#date=int(input(\"enter the date :\"))\n",
    "print(calendar.month(year,month))\n"
   ]
  },
  {
   "cell_type": "markdown",
   "id": "89c2de8c",
   "metadata": {},
   "source": [
    "###### 4. Write a Python program to solve quadratic equation?\n"
   ]
  },
  {
   "cell_type": "code",
   "execution_count": 7,
   "id": "dae580f3",
   "metadata": {},
   "outputs": [
    {
     "name": "stdout",
     "output_type": "stream",
     "text": [
      "sol1 = (-2.5+0j) and sol2 = (-2.5+0j)\n"
     ]
    }
   ],
   "source": [
    "# To solve Quadratic equation we import cmath module\n",
    "import cmath\n",
    "\n",
    "a=1\n",
    "b=5\n",
    "c=6\n",
    "\n",
    "d=(b**2)-(4*a*c)\n",
    "\n",
    "sol1=(-b*cmath.sqrt(d))/(2*a)       # root 1\n",
    "sol2=(-b*cmath.sqrt(d))/(2*a)       # root 2\n",
    "\n",
    "print(f\"sol1 = {sol1} and sol2 = {sol2}\")"
   ]
  },
  {
   "cell_type": "markdown",
   "id": "408b5b14",
   "metadata": {},
   "source": [
    "###### 5. Write a Python program to swap two variables without temp variable?\n",
    "\n",
    "\n",
    "\n",
    "\n"
   ]
  },
  {
   "cell_type": "code",
   "execution_count": 5,
   "id": "f974a392",
   "metadata": {},
   "outputs": [
    {
     "name": "stdout",
     "output_type": "stream",
     "text": [
      "before swapping \n",
      " a=40 \n",
      " b=50\n",
      "after swapping \n",
      " a=50 \n",
      " b=40\n"
     ]
    }
   ],
   "source": [
    "a=40\n",
    "b=50\n",
    "\n",
    "print(f\"before swapping: \\n a={a} \\n b={b}\")\n",
    "\n",
    "b=a+b\n",
    "\n",
    "a=b-a\n",
    "\n",
    "b=b-a\n",
    "\n",
    "print(f\"after swapping: \\n a={a} \\n b={b}\")"
   ]
  }
 ],
 "metadata": {
  "kernelspec": {
   "display_name": "Python 3 (ipykernel)",
   "language": "python",
   "name": "python3"
  },
  "language_info": {
   "codemirror_mode": {
    "name": "ipython",
    "version": 3
   },
   "file_extension": ".py",
   "mimetype": "text/x-python",
   "name": "python",
   "nbconvert_exporter": "python",
   "pygments_lexer": "ipython3",
   "version": "3.9.13"
  }
 },
 "nbformat": 4,
 "nbformat_minor": 5
}
